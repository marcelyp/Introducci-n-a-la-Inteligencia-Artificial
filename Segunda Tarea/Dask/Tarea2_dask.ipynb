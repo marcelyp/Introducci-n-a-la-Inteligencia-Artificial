{
  "nbformat": 4,
  "nbformat_minor": 0,
  "metadata": {
    "colab": {
      "name": "Tarea2_dask.ipynb",
      "provenance": [],
      "collapsed_sections": []
    },
    "kernelspec": {
      "name": "python3",
      "display_name": "Python 3"
    },
    "language_info": {
      "name": "python"
    }
  },
  "cells": [
    {
      "cell_type": "markdown",
      "source": [
        "**Llamada retrasada a la función, no al resultado** "
      ],
      "metadata": {
        "id": "eLZ2Ae1ccSja"
      }
    },
    {
      "cell_type": "code",
      "source": [
        "# This executes immediately\n",
        "dask.delayed(f(x, y))\n",
        "\n",
        "\n",
        "# This executes delayed\n",
        "dask.delayed(f)(x, y)\n",
        "\n"
      ],
      "metadata": {
        "id": "StRwdrQNcSIZ"
      },
      "execution_count": null,
      "outputs": []
    },
    {
      "cell_type": "markdown",
      "source": [
        "**Programe muchos cálculos a la vez**"
      ],
      "metadata": {
        "id": "BHZqILEdcd0m"
      }
    },
    {
      "cell_type": "code",
      "source": [
        "# Avoid calling compute repeatedly\n",
        "    results = []\n",
        "    for x in L:\n",
        "      y = dask.delayed(f)(x)\n",
        "      results.append(y.compute())\n",
        "    results\n",
        "\n",
        "#Correcto\n",
        "# Collect many calls for one compute\n",
        "    results = []\n",
        "    for x in L:\n",
        "        y = dask.delayed(f)(x)\n",
        "        results.append(y)\n",
        "    results = dask.compute(*results)"
      ],
      "metadata": {
        "id": "3XdkWAxwchM6"
      },
      "execution_count": null,
      "outputs": []
    },
    {
      "cell_type": "markdown",
      "source": [
        "**No modifique las entradas**"
      ],
      "metadata": {
        "id": "UhMv5DxUcuxd"
      }
    },
    {
      "cell_type": "code",
      "source": [
        "# Mutate inputs in functions\n",
        "    @dask.delayed\n",
        "    def f(x):\n",
        "        x += 1\n",
        "        return x\n",
        "#Correcto\n",
        "\n",
        "#``` Return new values or copies @dask.delayed def f(x): x = x + 1 return x\n",
        "\n",
        "#Correcto\n",
        "    @dask.delayed\n",
        "    def f(x):\n",
        "        x = copy(x)\n",
        "        x += 1\n",
        "        return x"
      ],
      "metadata": {
        "id": "D6pQd-XJc09F"
      },
      "execution_count": null,
      "outputs": []
    },
    {
      "cell_type": "markdown",
      "source": [
        "**Programe muchos cálculos a la vez**"
      ],
      "metadata": {
        "id": "D3RHQzGYc-PT"
      }
    },
    {
      "cell_type": "code",
      "source": [
        " # Incorrecto\n",
        "# Avoid calling compute repeatedly\n",
        "results = []\n",
        "for x in L:\n",
        "    y = dask.delayed(f)(x)\n",
        "    results.append(y.compute())\n",
        "    results\n",
        "    \n",
        "# Correcto\n",
        " \n",
        "# Collect many calls for one compute\n",
        "results = []\n",
        "for x in L:\n",
        "    y = dask.delayed(f)(x)\n",
        "    results.append(y)\n",
        "results = dask.compute(*results)"
      ],
      "metadata": {
        "id": "Nf_OUaEIdBZV"
      },
      "execution_count": null,
      "outputs": []
    },
    {
      "cell_type": "markdown",
      "source": [
        "**Evite el estado global**"
      ],
      "metadata": {
        "id": "ikcU_GZwdEmf"
      }
    },
    {
      "cell_type": "code",
      "source": [
        "L = []\n",
        "\n",
        "# This references global variable L\n",
        "\n",
        "@dask.delayed\n",
        "def f(x):\n",
        "    L.append(x)"
      ],
      "metadata": {
        "id": "ch6VlgPDf1x2"
      },
      "execution_count": null,
      "outputs": []
    },
    {
      "cell_type": "markdown",
      "source": [
        "**Evite efectos colaterales**"
      ],
      "metadata": {
        "id": "D9ZdA_qAf6_D"
      }
    },
    {
      "cell_type": "code",
      "source": [
        "# Ensure delayed tasks are computed\n",
        "\n",
        "x = dask.delayed(f)(1, 2, 3)\n",
        "#...\n",
        "dask.compute(x, ...)"
      ],
      "metadata": {
        "id": "1Yh8-YbUf-Vn"
      },
      "execution_count": null,
      "outputs": []
    },
    {
      "cell_type": "markdown",
      "source": [
        "**Divida los cálculos en muchas partes**"
      ],
      "metadata": {
        "id": "GMFdbc6-f9rs"
      }
    },
    {
      "cell_type": "code",
      "source": [
        "# Erróneo\n",
        "\n",
        "def load(filename):\n",
        "    ...\n",
        "\n",
        "\n",
        "def process(filename):\n",
        "    ...\n",
        "\n",
        "\n",
        "def save(filename):\n",
        "    ...\n",
        "\n",
        "@dask.delayed\n",
        "def f(filenames):\n",
        "    results = []\n",
        "    for filename in filenames:\n",
        "        data = load(filename)\n",
        "        data = process(data)\n",
        "        result = save(data)\n",
        "\n",
        "    return results\n",
        "\n",
        "dask.compute(f(filenames))"
      ],
      "metadata": {
        "id": "pSu3BK4JgGPD"
      },
      "execution_count": null,
      "outputs": []
    },
    {
      "cell_type": "code",
      "source": [
        "# Correcto\n",
        "# Break up into many tasks\n",
        "\n",
        "@dask.delayed\n",
        "def load(filename):\n",
        "    ...\n",
        "\n",
        "@dask.delayed\n",
        "def process(filename):\n",
        "    ...\n",
        "\n",
        "@dask.delayed\n",
        "def save(filename):\n",
        "    ...\n",
        "\n",
        "\n",
        "def f(filenames):\n",
        "    results = []\n",
        "    for filename in filenames:\n",
        "        data = load(filename)\n",
        "        data = process(data)\n",
        "        result = save(data)\n",
        "\n",
        "    return results\n",
        "\n",
        "dask.compute(f(filenames))"
      ],
      "metadata": {
        "id": "knY0QKRTgMhN"
      },
      "execution_count": null,
      "outputs": []
    },
    {
      "cell_type": "markdown",
      "source": [
        "**Evite demasiadas tareas retrasadas**"
      ],
      "metadata": {
        "id": "4Km69YHQgH2g"
      }
    },
    {
      "cell_type": "code",
      "source": [
        "# Too many tasks\n",
        "\n",
        "results = []\n",
        "for x in range(10000000):\n",
        "    y = dask.delayed(f)(x)\n",
        "    results.append(y)\n",
        "\n",
        "    \n",
        "# Use collections\n",
        "\n",
        "import dask.bag as db\n",
        "b = db.from_sequence(range(10000000), npartitions=1000)\n",
        "b = b.map(f)\n",
        "..."
      ],
      "metadata": {
        "id": "XHXhTL3agQNk"
      },
      "execution_count": null,
      "outputs": []
    },
    {
      "cell_type": "code",
      "source": [
        "# Alternativamente, sin usar bag collection\n",
        "\n",
        "def batch(seq):\n",
        "    sub_results = []\n",
        "    for x in seq:\n",
        "        sub_results.append(f(x))\n",
        "    return sub_results\n",
        "\n",
        " batches = []\n",
        " for i in range(0, 10000000, 10000):\n",
        "     result_batch = dask.delayed(batch)(range(i, i + 10000))\n",
        "     batches.append(result_batch)"
      ],
      "metadata": {
        "id": "dKVbUin4gSXR"
      },
      "execution_count": null,
      "outputs": []
    },
    {
      "cell_type": "markdown",
      "source": [
        "**Evite llamar delayed dentro de funciones retrasadas**"
      ],
      "metadata": {
        "id": "vW9-8mBngUIh"
      }
    },
    {
      "cell_type": "code",
      "source": [
        "# Evitar: Delayed function calls delayed\n",
        "\n",
        "@dask.delayed\n",
        "def process_all(L):\n",
        "    result = []\n",
        "    for x in L:\n",
        "        y = dask.delayed(f)(x)\n",
        "        result.append(y)\n",
        "    return result\n",
        "\n",
        "\n",
        "\n",
        "# Normal function calls delayed\n",
        "\n",
        "def process_all(L):\n",
        "    result = []\n",
        "    for x in L:\n",
        "        y = dask.delayed(f)(x)\n",
        "        result.append(y)\n",
        "    return result"
      ],
      "metadata": {
        "id": "ve1MaMNKgXNR"
      },
      "execution_count": null,
      "outputs": []
    },
    {
      "cell_type": "markdown",
      "source": [
        "**No llame a dask.delayed en otras colecciones de Dask**"
      ],
      "metadata": {
        "id": "tFveFZ3BgerI"
      }
    },
    {
      "cell_type": "code",
      "source": [
        "# Incorrecto: Call delayed functions on Dask collections\n",
        "\n",
        "import dask.dataframe as dd\n",
        "df = dd.read_csv('/path/to/*.csv')\n",
        "\n",
        "dask.delayed(train)(df)\n",
        "\n",
        "#Correcto:  Use mapping methods if applicable\n",
        "\n",
        "import dask.dataframe as dd\n",
        "df = dd.read_csv('/path/to/*.csv')\n",
        "\n",
        "df.map_partitions(train)\n",
        "\n",
        "# O alternativamente,if the procedure doesn’t fit into a mapping, \n",
        "# you can always turn your arrays or dataframes into many delayed objects, for example\n",
        "\n",
        "import dask.dataframe as dd\n",
        "df = dd.read_csv('/path/to/*.csv')\n",
        "                 \n",
        "partitions = df.to_delayed()\n",
        "delayed_values = [dask.delayed(train)(part)\n",
        "                  for part in partitions]"
      ],
      "metadata": {
        "id": "Wrpp_XR3ghnZ"
      },
      "execution_count": null,
      "outputs": []
    },
    {
      "cell_type": "markdown",
      "source": [
        "**Evite poner repetidamente grandes entradas en llamadas retrasadas**"
      ],
      "metadata": {
        "id": "EPvte2mogkmF"
      }
    },
    {
      "cell_type": "code",
      "source": [
        "# No haga esto\n",
        "\n",
        "x = np.array(...)  # some large array\n",
        "\n",
        "results = [dask.delayed(train)(x, i)\n",
        "           for i in range(1000)]\n",
        "\n",
        "# En su lugar haga esto\n",
        "\n",
        "x = np.array(...)    # some large array\n",
        "x = dask.delayed(x)  # delay the data once\n",
        "\n",
        "results = [dask.delayed(train)(x, i)\n",
        "           for i in range(1000)]"
      ],
      "metadata": {
        "id": "3-Qm3Y7Bgnxz"
      },
      "execution_count": null,
      "outputs": []
    }
  ]
}